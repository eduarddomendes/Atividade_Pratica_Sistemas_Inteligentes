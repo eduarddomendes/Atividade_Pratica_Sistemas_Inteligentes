{
  "nbformat": 4,
  "nbformat_minor": 0,
  "metadata": {
    "colab": {
      "provenance": []
    },
    "kernelspec": {
      "name": "python3",
      "display_name": "Python 3"
    },
    "language_info": {
      "name": "python"
    }
  },
  "cells": [
    {
      "cell_type": "markdown",
      "source": [
        "Preparando os dados"
      ],
      "metadata": {
        "id": "NabADXJmlrlg"
      }
    },
    {
      "cell_type": "code",
      "execution_count": 15,
      "metadata": {
        "colab": {
          "base_uri": "https://localhost:8080/"
        },
        "id": "xHNVSK-VQoNo",
        "outputId": "9bd06140-2272-4f42-dfbe-6763191af2d7"
      },
      "outputs": [
        {
          "output_type": "stream",
          "name": "stderr",
          "text": [
            "<ipython-input-15-6cc53a0658bb>:17: SettingWithCopyWarning: \n",
            "A value is trying to be set on a copy of a slice from a DataFrame.\n",
            "Try using .loc[row_indexer,col_indexer] = value instead\n",
            "\n",
            "See the caveats in the documentation: https://pandas.pydata.org/pandas-docs/stable/user_guide/indexing.html#returning-a-view-versus-a-copy\n",
            "  X['Sex'] = X['Sex'].map({'male':0, 'female':1})\n"
          ]
        }
      ],
      "source": [
        "# prompt: leia o arquivo titanic.csv\n",
        "\n",
        "import pandas as pd\n",
        "from sklearn.model_selection import train_test_split\n",
        "\n",
        "df = pd.read_csv('titanic.csv')\n",
        "\n",
        "df.head()\n",
        "\n",
        "#print the first few rows of the DataFrame\n",
        "df.head()\n",
        "\n",
        "features = ['Pclass','Sex','Age','Fare','SibSp','Parch']\n",
        "\n",
        "X = df[features] #selecionando os atributos\n",
        "# x.head()\n",
        "X['Sex'] = X['Sex'].map({'male':0, 'female':1})\n",
        "\n",
        "y = df['Survived']\n",
        "\n",
        "X = X.fillna(X.mean()) #trocando dados corrompidos pela média da coluna\n",
        "\n",
        "X_train, X_test, y_train, y_test = train_test_split(X, y, test_size=0.2, random_state=42)\n",
        "\n"
      ]
    },
    {
      "cell_type": "markdown",
      "source": [
        "Classificador Árvore de decisão\n"
      ],
      "metadata": {
        "id": "UKm5Ps24k0nw"
      }
    },
    {
      "cell_type": "code",
      "source": [
        "from sklearn.tree import DecisionTreeClassifier\n",
        "from sklearn.tree import export_text\n",
        "from sklearn.metrics import accuracy_score\n",
        "\n",
        "#criando o classificador\n",
        "decision_tree_classifier = DecisionTreeClassifier()\n",
        "\n",
        "decision_tree_classifier.fit(X_train, y_train)\n",
        "\n",
        "tree_rules = export_text(decision_tree_classifier,\n",
        "                         feature_names=features)\n",
        "\n",
        "# print(tree_rules)\n",
        "\n",
        "predictions = decision_tree_classifier.predict(X_test)\n",
        "\n",
        "accuracy = accuracy_score(y_test, predictions)\n",
        "print('Precisão:', accuracy)\n",
        "\n",
        "\n"
      ],
      "metadata": {
        "colab": {
          "base_uri": "https://localhost:8080/"
        },
        "id": "wY_0NGAblQU1",
        "outputId": "159fede3-f310-4021-e725-b38283334483"
      },
      "execution_count": 14,
      "outputs": [
        {
          "output_type": "stream",
          "name": "stdout",
          "text": [
            "Precisão: 0.7653631284916201\n"
          ]
        }
      ]
    },
    {
      "cell_type": "code",
      "source": [
        "from sklearn.neural_network import MLPClassifier\n",
        "from sklearn.metrics import accuracy_score\n",
        "\n",
        "mlp = MLPClassifier(hidden_layer_sizes=(10,5), max_iter= 1000, random_state=42)\n",
        "\n",
        "mlp.fit(X_train, y_train)\n",
        "\n",
        "predictions = mlp.predict(X_test)\n",
        "\n",
        "accuracy = accuracy_score(y_test, predictions)\n",
        "print('Precisão:', accuracy)\n"
      ],
      "metadata": {
        "colab": {
          "base_uri": "https://localhost:8080/"
        },
        "id": "S1y72AOZvhyo",
        "outputId": "65f91cf1-3b98-42ac-8054-9d0dd9fd6ba3"
      },
      "execution_count": 16,
      "outputs": [
        {
          "output_type": "stream",
          "name": "stdout",
          "text": [
            "Precisão: 0.8044692737430168\n"
          ]
        }
      ]
    }
  ]
}